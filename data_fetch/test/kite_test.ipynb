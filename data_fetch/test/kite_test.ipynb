{
 "cells": [
  {
   "cell_type": "code",
   "execution_count": 11,
   "metadata": {},
   "outputs": [],
   "source": [
    "import json\n",
    "import hashlib\n",
    "from kiteconnect import KiteConnect\n"
   ]
  },
  {
   "cell_type": "code",
   "execution_count": 12,
   "metadata": {},
   "outputs": [
    {
     "name": "stdout",
     "output_type": "stream",
     "text": [
      "https://kite.zerodha.com/connect/login?api_key=b8eaumorihbf8a5p&v=3\n"
     ]
    }
   ],
   "source": [
    "with open(\"../../credential/kite_cred.json\", \"r\") as file:\n",
    "    config = json.load(file)\n",
    "\n",
    "api_key = config[\"api_key\"]\n",
    "api_secret = config[\"api_secret\"]\n",
    "kite = KiteConnect(api_key=api_key)\n",
    "login_url = kite.login_url()\n",
    "print(login_url)"
   ]
  },
  {
   "cell_type": "code",
   "execution_count": 13,
   "metadata": {},
   "outputs": [],
   "source": [
    "request_token=\"RdIZv8lsfZdfNpEFI0eg0Iiq2RNu1d0w\""
   ]
  },
  {
   "cell_type": "code",
   "execution_count": 14,
   "metadata": {},
   "outputs": [],
   "source": [
    "kite = KiteConnect(api_key=api_key)\n",
    "data = kite.generate_session(request_token, api_secret=api_secret)\n",
    "kite.set_access_token(data[\"access_token\"])"
   ]
  },
  {
   "cell_type": "code",
   "execution_count": 16,
   "metadata": {},
   "outputs": [],
   "source": [
    "with open(\"../../credential/access_token.json\", \"w\") as file:\n",
    "    json.dump({\"access_token\": data[\"access_token\"]}, file)"
   ]
  },
  {
   "cell_type": "code",
   "execution_count": null,
   "metadata": {},
   "outputs": [],
   "source": []
  }
 ],
 "metadata": {
  "kernelspec": {
   "display_name": "base",
   "language": "python",
   "name": "python3"
  },
  "language_info": {
   "codemirror_mode": {
    "name": "ipython",
    "version": 3
   },
   "file_extension": ".py",
   "mimetype": "text/x-python",
   "name": "python",
   "nbconvert_exporter": "python",
   "pygments_lexer": "ipython3",
   "version": "3.11.5"
  }
 },
 "nbformat": 4,
 "nbformat_minor": 2
}
